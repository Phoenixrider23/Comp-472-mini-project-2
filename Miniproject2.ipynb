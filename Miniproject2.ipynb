{
  "nbformat": 4,
  "nbformat_minor": 0,
  "metadata": {
    "colab": {
      "provenance": [],
      "authorship_tag": "ABX9TyNAAqgqzUngCvARlg5MutjC",
      "include_colab_link": true
    },
    "kernelspec": {
      "name": "python3",
      "display_name": "Python 3"
    },
    "language_info": {
      "name": "python"
    }
  },
  "cells": [
    {
      "cell_type": "markdown",
      "metadata": {
        "id": "view-in-github",
        "colab_type": "text"
      },
      "source": [
        "<a href=\"https://colab.research.google.com/github/Phoenixrider23/Comp-472-mini-project-2/blob/kes-branch/Miniproject2.ipynb\" target=\"_parent\"><img src=\"https://colab.research.google.com/assets/colab-badge.svg\" alt=\"Open In Colab\"/></a>"
      ]
    },
    {
      "cell_type": "code",
      "execution_count": 12,
      "metadata": {
        "id": "_Gm0beChiVSC"
      },
      "outputs": [],
      "source": [
        "#rush hour\n",
        "import copy\n",
        "from array import *\n",
        "import random"
      ]
    },
    {
      "cell_type": "code",
      "source": [
        "#random generate to be used to decide all the car movement\n",
        "#gonna need to be loop so that each car can get a rand move\n",
        "possible_move = [1, 2, 3, 4]\n",
        "rand = random.choice(possible_move)\n",
        "print(rand)"
      ],
      "metadata": {
        "colab": {
          "base_uri": "https://localhost:8080/"
        },
        "id": "68D8yS4bkTT0",
        "outputId": "08a729ab-b03f-49f7-81ef-98366fe077cc"
      },
      "execution_count": 42,
      "outputs": [
        {
          "output_type": "stream",
          "name": "stdout",
          "text": [
            "4\n"
          ]
        }
      ]
    },
    {
      "cell_type": "code",
      "source": [
        "class car:\n",
        "  #parametrised constructor\n",
        "    def __init__(self, x, y): \n",
        "        self.x = x\n",
        "        self.y = y\n",
        "        self.length = 1\n",
        "        self.horizontal = False\n",
        "        self.gas = 99\n",
        "    \n",
        "    #update the position of the car\n",
        "    def update(self, new_horizontal):\n",
        "        self.length += 1\n",
        "        self.horizontal = new_horizontal\n",
        "    \n",
        "    #update gas usage of the car\n",
        "    #set the gas\n",
        "    def set_gas(self, gas): \n",
        "        self.gas = gas\n",
        "\n",
        "    #get gas\n",
        "    def get_gas(self):\n",
        "        return self.gas\n",
        "\n",
        "    #function that check if there is enough gas to processed\n",
        "    def set_move(self, rand):\n",
        "      if car.get_gas >= rand:\n",
        "        car.set_gas(rand)\n",
        "      return rand"
      ],
      "metadata": {
        "id": "YR_EHSFpSHKk"
      },
      "execution_count": 43,
      "outputs": []
    },
    {
      "cell_type": "code",
      "source": [
        "#using a switch as there is only 4 cases to represent the points\n",
        "def convert_points(points):\n",
        "  switch = {\n",
        "      1: \".\",\n",
        "      2: \"..\",\n",
        "      3: \"...\",\n",
        "      4: \"....\",\n",
        "  }\n",
        "  return switch.get(points, \".\")"
      ],
      "metadata": {
        "id": "KaiZyE04me3F"
      },
      "execution_count": 44,
      "outputs": []
    },
    {
      "cell_type": "code",
      "source": [
        "class state:\n",
        "    #copy constructor\n",
        "    def __init__(self):\n",
        "        self.cars = {}\n",
        "        self.board_string = \"\"\n",
        "        self.board_matrix = [['.','.','.','.','.','.'],\n",
        "                            ['.','.','.','.','.','.'],\n",
        "                            ['.','.','.','.','.','.'],\n",
        "                            ['.','.','.','.','.','.'],\n",
        "                            ['.','.','.','.','.','.'],\n",
        "                            ['.','.','.','.','.','.']]\n",
        "\n",
        "    #load from a file\n",
        "    def read_input_file(self, state_string):\n",
        "        param = state_string.split(' ')\n",
        "        for j in range(len(param)):\n",
        "            if j == 0:\n",
        "                self.board_string = param[0]\n",
        "                for i in range(len(param[0])):\n",
        "                    id = state_string[i]\n",
        "                    x = i % 6\n",
        "                    y = i // 6\n",
        "                    self.board_matrix[y][x] = id\n",
        "                    if (id != '.') and not(id in self.cars):\n",
        "                        new_car = car(x, y)\n",
        "                        self.cars[id] = new_car\n",
        "                    elif (id in self.cars):\n",
        "                        horizontal = (previous_character == id)\n",
        "                        self.cars[id].update(horizontal)\n",
        "                    previous_character = id\n",
        "            else:\n",
        "                car_id = param[j][0]\n",
        "                gas_value = int(param[j][1])\n",
        "                self.cars[car_id].set_gas(gas_value)\n",
        "        print(self.board_matrix)\n",
        "    \n",
        "    #output car position/result\n",
        "    def print_cars(self):\n",
        "        for car in self.cars:\n",
        "            print(car + \n",
        "                    \"= x: \" + str(self.cars[car].x) + \n",
        "                    \", y: \" + str(self.cars[car].y) + \n",
        "                    \", length: \" + str(self.cars[car].length) +\n",
        "                    \", horizontal: \" + str(self.cars[car].horizontal) + \n",
        "                    \", gas: \" + str(self.cars[car].gas))\n",
        "\n",
        "    #check if the car can move\n",
        "    def check_legal_moves(self):\n",
        "        for car in self.cars:\n",
        "            if self.cars[car].horizontal == True:\n",
        "                # check left\n",
        "                try:\n",
        "                    if self.board_matrix[self.cars[car].y][self.cars[car].x - 1] == '.':\n",
        "                        new_board = copy.deepcopy(self.board_matrix)\n",
        "                        new_board[self.cars[car].y][self.cars[car].x - 1] = car\n",
        "                        new_board[self.cars[car].y][self.cars[car].x + self.cars[car].length - 1] = '.'\n",
        "\n",
        "                        new_board_string = \"\"\n",
        "                        for j in range(len(new_board)):\n",
        "                            for i in range(len(new_board[j])):\n",
        "                                new_board_string += (new_board[j][i])\n",
        "                        print(new_board_string)\n",
        "\n",
        "                    #testing movement with 1, 2, 3, 4, in the work /*need some verification to know if it would be doable*/\n",
        "                    elif self.board_matrix[self.cars[car].y][self.cars[car].x - rand] == convert_points(rand):\n",
        "                        new_board = copy.deepcopy(self.board_matrix)\n",
        "                        new_board[self.cars[car].y][self.cars[car].x - rand] = car\n",
        "                        new_board[self.cars[car].y][self.cars[car].x + self.cars[car].length - rand] = convert_points(rand)\n",
        "\n",
        "                except:\n",
        "                    pass\n",
        "\n",
        "                # check right\n",
        "                try:\n",
        "                    if self.board_matrix[self.cars[car].y][self.cars[car].x + self.cars[car].length] == '.':\n",
        "                        new_board = copy.deepcopy(self.board_matrix)\n",
        "                        new_board[self.cars[car].y][self.cars[car].x + self.cars[car].length] = car\n",
        "                        new_board[self.cars[car].y][self.cars[car].x] = '.'\n",
        "                        \n",
        "                        new_board_string = \"\"\n",
        "                        for j in range(len(new_board)):\n",
        "                            for i in range(len(new_board[j])):\n",
        "                                new_board_string += (new_board[j][i])\n",
        "                        print(new_board_string)\n",
        "                except:\n",
        "                    pass\n",
        "\n",
        "            else: # car is vertical\n",
        "                pass"
      ],
      "metadata": {
        "id": "Aeat-_0rSJhW"
      },
      "execution_count": 45,
      "outputs": []
    },
    {
      "cell_type": "code",
      "source": [
        "test_puzzle = \".BB.....EEKLAAIJKLH.IJFFHGGG.M.....M K6 M0\"\n",
        "\n",
        "new_state = state()\n",
        "new_state.read_input_file(test_puzzle)\n",
        "print()\n",
        "new_state.print_cars()\n",
        "print()\n",
        "new_state.check_legal_moves()"
      ],
      "metadata": {
        "colab": {
          "base_uri": "https://localhost:8080/"
        },
        "id": "q6vsUhMZSR2Y",
        "outputId": "cffcd741-9133-419f-a090-313ac30b7631"
      },
      "execution_count": 41,
      "outputs": [
        {
          "output_type": "stream",
          "name": "stdout",
          "text": [
            "[['.', 'B', 'B', '.', '.', '.'], ['.', '.', 'E', 'E', 'K', 'L'], ['A', 'A', 'I', 'J', 'K', 'L'], ['H', '.', 'I', 'J', 'F', 'F'], ['H', 'G', 'G', 'G', '.', 'M'], ['.', '.', '.', '.', '.', 'M']]\n",
            "\n",
            "B= x: 1, y: 0, length: 2, horizontal: True, gas: 99\n",
            "E= x: 2, y: 1, length: 2, horizontal: True, gas: 99\n",
            "K= x: 4, y: 1, length: 2, horizontal: False, gas: 6\n",
            "L= x: 5, y: 1, length: 2, horizontal: False, gas: 99\n",
            "A= x: 0, y: 2, length: 2, horizontal: True, gas: 99\n",
            "I= x: 2, y: 2, length: 2, horizontal: False, gas: 99\n",
            "J= x: 3, y: 2, length: 2, horizontal: False, gas: 99\n",
            "H= x: 0, y: 3, length: 2, horizontal: False, gas: 99\n",
            "F= x: 4, y: 3, length: 2, horizontal: True, gas: 99\n",
            "G= x: 1, y: 4, length: 3, horizontal: True, gas: 99\n",
            "M= x: 5, y: 4, length: 2, horizontal: False, gas: 0\n",
            "\n",
            "BB......EEKLAAIJKLH.IJFFHGGG.M.....M\n",
            "..BB....EEKLAAIJKLH.IJFFHGGG.M.....M\n",
            ".BB....EE.KLAAIJKLH.IJFFHGGG.M.....M\n",
            ".BB.....EEKLAAIJKLH.IJFFH.GGGM.....M\n"
          ]
        }
      ]
    }
  ]
}